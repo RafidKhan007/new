{
 "cells": [
  {
   "cell_type": "code",
   "execution_count": 1,
   "id": "ab93506b-1eba-43ac-897c-3d59973bf524",
   "metadata": {},
   "outputs": [
    {
     "name": "stdout",
     "output_type": "stream",
     "text": [
      "Numpy Version =  1.26.2\n",
      "[1 2 3 4 5]\n",
      "<class 'numpy.ndarray'>\n"
     ]
    }
   ],
   "source": [
    "import numpy as np\n",
    "print(\"Numpy Version = \", np.__version__)\n",
    "\n",
    "arr = np.array([1,2,3,4,5])\n",
    "print(arr)\n",
    "print(type(arr))"
   ]
  },
  {
   "cell_type": "code",
   "execution_count": 2,
   "id": "5fc0ae4a-22fa-4c2d-bb25-83c287962107",
   "metadata": {},
   "outputs": [
    {
     "name": "stdout",
     "output_type": "stream",
     "text": [
      "42\n"
     ]
    }
   ],
   "source": [
    "arr = np.array(42)\n",
    "print(arr)"
   ]
  },
  {
   "cell_type": "code",
   "execution_count": 3,
   "id": "33ecc8c0-220a-446f-bbf6-2c01ef2be596",
   "metadata": {},
   "outputs": [
    {
     "name": "stdout",
     "output_type": "stream",
     "text": [
      "[[1 2 3]\n",
      " [4 5 6]]\n"
     ]
    }
   ],
   "source": [
    "arr = np.array([[1,2,3],[4,5,6]])\n",
    "print(arr)"
   ]
  },
  {
   "cell_type": "code",
   "execution_count": 4,
   "id": "b04dad9a-54c1-4906-81eb-7d0a367d26d2",
   "metadata": {},
   "outputs": [
    {
     "name": "stdout",
     "output_type": "stream",
     "text": [
      "[[[1 2 3]\n",
      "  [4 5 6]]\n",
      "\n",
      " [[1 2 3]\n",
      "  [4 5 6]]]\n",
      "The Dimenion of array is:  3\n"
     ]
    }
   ],
   "source": [
    "arr = np.array([[[1,2,3],[4,5,6]],[[1,2,3],[4,5,6]]])\n",
    "print(arr)\n",
    "print(\"The Dimenion of array is: \",arr.ndim)"
   ]
  },
  {
   "cell_type": "code",
   "execution_count": 5,
   "id": "da950049-9c33-409d-9df8-7b4a59ae98ca",
   "metadata": {},
   "outputs": [
    {
     "name": "stdout",
     "output_type": "stream",
     "text": [
      "[[[1 2 3]\n",
      "  [4 5 6]]\n",
      "\n",
      " [[1 2 3]\n",
      "  [4 5 6]]]\n",
      "The Dimenion of array is:  3\n"
     ]
    }
   ],
   "source": [
    "arr = np.array([[[1,2,3],[4,5,6]],[[1,2,3],[4,5,6]]], ndmin = 2)\n",
    "print(arr)\n",
    "print(\"The Dimenion of array is: \",arr.ndim)"
   ]
  },
  {
   "cell_type": "markdown",
   "id": "d7f166bf-5c0f-4562-bac6-2708cfccbf31",
   "metadata": {},
   "source": [
    "### Numpy Array Indexing"
   ]
  },
  {
   "cell_type": "code",
   "execution_count": 6,
   "id": "99cb9899-d9a0-4e21-b2d6-685811bb77b2",
   "metadata": {},
   "outputs": [
    {
     "name": "stdout",
     "output_type": "stream",
     "text": [
      "7\n",
      "5\n"
     ]
    }
   ],
   "source": [
    "arr = np.array([1,2,3,4,5,7])\n",
    "\n",
    "\n",
    "print(arr[5])\n",
    "print(arr[0] + arr[3])\n"
   ]
  },
  {
   "cell_type": "code",
   "execution_count": 7,
   "id": "a99b60ae-e0ae-415d-af7f-a7b21fc646ae",
   "metadata": {},
   "outputs": [
    {
     "name": "stdout",
     "output_type": "stream",
     "text": [
      "7\n"
     ]
    }
   ],
   "source": [
    "arr = np.array([[1,2,3,4,5,6],[7,6,5,4,3,2]])\n",
    "print(arr[1,0])"
   ]
  },
  {
   "cell_type": "markdown",
   "id": "85d14f42-87e1-4159-9eb7-2fb3794cbdd6",
   "metadata": {},
   "source": [
    "### Numpy Array Slicing"
   ]
  },
  {
   "cell_type": "code",
   "execution_count": 8,
   "id": "387a48ef-2eb3-42b2-856e-4a9a19e908f8",
   "metadata": {},
   "outputs": [
    {
     "name": "stdout",
     "output_type": "stream",
     "text": [
      "[15 20 25]\n"
     ]
    }
   ],
   "source": [
    "arr = np.array([10, 15, 20, 25, 30, 35, 40])\n",
    "x = arr[1:4]\n",
    "print(x)"
   ]
  },
  {
   "cell_type": "code",
   "execution_count": 9,
   "id": "37bda94a-522c-4a9c-9320-108347ee0d12",
   "metadata": {},
   "outputs": [
    {
     "name": "stdout",
     "output_type": "stream",
     "text": [
      "[6 7 8 9 0]\n"
     ]
    }
   ],
   "source": [
    "arr = np.array([1,2,3,4,5,6,7,8,9,0])\n",
    "x = arr[5:]\n",
    "print(x)"
   ]
  },
  {
   "cell_type": "code",
   "execution_count": 10,
   "id": "63f406a1-72fb-4ddd-bf2a-2806f27b5d82",
   "metadata": {},
   "outputs": [
    {
     "name": "stdout",
     "output_type": "stream",
     "text": [
      "[1 2 3 4 5]\n"
     ]
    }
   ],
   "source": [
    "arr = np.array([1,2,3,4,5,6,7,8,9,0])\n",
    "x = arr[:5]\n",
    "print(x)"
   ]
  },
  {
   "cell_type": "code",
   "execution_count": 11,
   "id": "ab26f6a7-3706-4d9c-a3d6-5e5a37eae37a",
   "metadata": {},
   "outputs": [
    {
     "name": "stdout",
     "output_type": "stream",
     "text": [
      "[7]\n",
      "[1, 2, 3, 4, 5, 6]\n"
     ]
    }
   ],
   "source": [
    "arr = ([1,2,3,4,5,6,7])\n",
    "x = arr[-1:]\n",
    "y = arr[:-1]\n",
    "print(x)\n",
    "print(y)"
   ]
  },
  {
   "cell_type": "code",
   "execution_count": 12,
   "id": "99bfac33-20b5-44bf-b68b-3e1f76cbb4b8",
   "metadata": {},
   "outputs": [
    {
     "name": "stdout",
     "output_type": "stream",
     "text": [
      "[2 5 8]\n"
     ]
    }
   ],
   "source": [
    "arr = np.array([1,2,3,4,5,6,7,8,9,0])\n",
    "x = arr[1:8:3]\n",
    "print(x)"
   ]
  },
  {
   "cell_type": "code",
   "execution_count": 13,
   "id": "b89c5a18-f8ad-4092-9f55-2f87317c91e6",
   "metadata": {},
   "outputs": [
    {
     "name": "stdout",
     "output_type": "stream",
     "text": [
      "[ 8  9 10]\n"
     ]
    }
   ],
   "source": [
    "arr = np.array([[1,2,3,4,5,6],[7,8,9,10,11,12]])\n",
    "x = arr[1, 1:4]\n",
    "print(x)"
   ]
  },
  {
   "cell_type": "code",
   "execution_count": 14,
   "id": "23e5dae8-3ebd-4f72-8d07-f43cb4e08c63",
   "metadata": {},
   "outputs": [
    {
     "name": "stdout",
     "output_type": "stream",
     "text": [
      "[[ 2  3  4]\n",
      " [ 8  9 10]]\n"
     ]
    }
   ],
   "source": [
    "arr = np.array([[1,2,3,4,5,6],[7,8,9,10,11,12]])\n",
    "x = arr[0:2, 1:4]\n",
    "print(x)"
   ]
  },
  {
   "cell_type": "markdown",
   "id": "136b0fab-3219-4c2d-b0be-91a04f76052f",
   "metadata": {},
   "source": [
    "### Data Types in NumPy\r\n",
    "NumPy has some extra data types, and refer to data types with one character, like i for integers, u for unsigned integers etc.\r\n",
    "\r\n",
    "Below is a list of all data types in NumPy and the characters used to represent ther type ( void )\r\n"
   ]
  },
  {
   "cell_type": "code",
   "execution_count": 15,
   "id": "dbb2ca4c-66a6-415d-a0e8-bcf9c0483256",
   "metadata": {},
   "outputs": [
    {
     "name": "stdout",
     "output_type": "stream",
     "text": [
      "<U6\n"
     ]
    }
   ],
   "source": [
    "arr = np.array([\"apple\",\"banana\",\"Mango\"])\n",
    "print(arr.dtype)"
   ]
  },
  {
   "cell_type": "code",
   "execution_count": 16,
   "id": "d4458d1a-e0fe-4301-8b0a-e62614461eba",
   "metadata": {},
   "outputs": [
    {
     "name": "stdout",
     "output_type": "stream",
     "text": [
      "[1 3 4 5 6]\n",
      "[1. 3. 4. 5. 6.]\n"
     ]
    }
   ],
   "source": [
    "arr = np.array([1,3,4,5,6])\n",
    "\n",
    "newarr = arr.astype(\"f\")\n",
    "\n",
    "print(arr)\n",
    "print(newarr)"
   ]
  },
  {
   "cell_type": "code",
   "execution_count": 17,
   "id": "1b403c79-e52e-4231-868c-d6c252c7d1ca",
   "metadata": {},
   "outputs": [
    {
     "name": "stdout",
     "output_type": "stream",
     "text": [
      "[1.43 3.56 4.67 5.23 6.45]\n",
      "[1 3 4 5 6]\n",
      "int32\n"
     ]
    }
   ],
   "source": [
    "arr = np.array([1.43,3.56,4.67,5.23,6.45])\n",
    "\n",
    "newarr = arr.astype(\"i\")\n",
    "\n",
    "print(arr)\n",
    "print(newarr)\n",
    "print(newarr.dtype)"
   ]
  },
  {
   "cell_type": "code",
   "execution_count": 18,
   "id": "36011460-dd18-466b-be1b-abf61e505508",
   "metadata": {},
   "outputs": [
    {
     "name": "stdout",
     "output_type": "stream",
     "text": [
      "[1.43 3.56 4.67 5.23 6.45]\n",
      "[ True  True  True  True  True]\n",
      "bool\n"
     ]
    }
   ],
   "source": [
    "arr = np.array([1.43,3.56,4.67,5.23,6.45])\n",
    "\n",
    "newarr = arr.astype(bool)\n",
    "\n",
    "print(arr)\n",
    "print(newarr)\n",
    "print(newarr.dtype)"
   ]
  },
  {
   "cell_type": "markdown",
   "id": "ea71de38-2c88-487f-9299-b4ac61ec5695",
   "metadata": {},
   "source": [
    "### Numpy Copy vs View"
   ]
  },
  {
   "cell_type": "code",
   "execution_count": 19,
   "id": "28a2a4cf-1a31-4ffc-9a04-2e06b9b24930",
   "metadata": {},
   "outputs": [
    {
     "name": "stdout",
     "output_type": "stream",
     "text": [
      "[1 2 3 4 5]\n",
      "[ 1 54  3  4  5]\n"
     ]
    }
   ],
   "source": [
    "import numpy as np\n",
    "\n",
    "arr = np.array([1,2,3,4,5])\n",
    "x = arr.copy()\n",
    "x[1] = 54\n",
    "\n",
    "print(arr)\n",
    "print(x)"
   ]
  },
  {
   "cell_type": "code",
   "execution_count": 20,
   "id": "f9b209f6-8427-4297-bb7e-a8260dce644c",
   "metadata": {},
   "outputs": [
    {
     "name": "stdout",
     "output_type": "stream",
     "text": [
      "[ 1 54  3  4  5]\n",
      "[ 1 54  3  4  5]\n"
     ]
    }
   ],
   "source": [
    "arr = np.array([1,2,3,4,5])\n",
    "x = arr.view()\n",
    "x[1] = 54\n",
    "\n",
    "print(arr)\n",
    "print(x)"
   ]
  },
  {
   "cell_type": "code",
   "execution_count": 21,
   "id": "bb381a78-dad2-4737-a58e-dd643abe7b87",
   "metadata": {},
   "outputs": [
    {
     "name": "stdout",
     "output_type": "stream",
     "text": [
      "None\n",
      "[1 2 3 4 5 6 7 8]\n"
     ]
    }
   ],
   "source": [
    "arr = np.array([1,2,3,4,5,6,7,8])\n",
    "x = arr.copy()\n",
    "y = arr.view()\n",
    "\n",
    "print(x.base)\n",
    "print(y.base)"
   ]
  },
  {
   "cell_type": "code",
   "execution_count": 27,
   "id": "413f3c69-7a2b-4003-a5e4-2c2f32db8941",
   "metadata": {},
   "outputs": [
    {
     "name": "stdout",
     "output_type": "stream",
     "text": [
      "(2, 4)\n"
     ]
    }
   ],
   "source": [
    "arr = np.array([[67,98,65,87],[1,2,3,4]])\n",
    "print(arr.shape)"
   ]
  },
  {
   "cell_type": "code",
   "execution_count": 31,
   "id": "833e56de-31ae-4280-b93f-58a0ec7331fd",
   "metadata": {},
   "outputs": [
    {
     "name": "stdout",
     "output_type": "stream",
     "text": [
      "[[ 1  2  3  4  5]\n",
      " [ 6  7  8  9 10]]\n"
     ]
    }
   ],
   "source": [
    "arr = np.array([1,2,3,4,5,6,7,8,9,10])\n",
    "newarr = arr.reshape(2,5)\n",
    "print(newarr)"
   ]
  },
  {
   "cell_type": "code",
   "execution_count": 35,
   "id": "e263c18b-1c24-4e58-b044-0bc71d8c1b86",
   "metadata": {},
   "outputs": [
    {
     "name": "stdout",
     "output_type": "stream",
     "text": [
      "[[[ 1  2]\n",
      "  [ 3  4]\n",
      "  [ 5  6]]\n",
      "\n",
      " [[ 7  8]\n",
      "  [ 9 10]\n",
      "  [11 12]]]\n"
     ]
    }
   ],
   "source": [
    "arr = np.array([1,2,3,4,5,6,7,8,9,10,11,12])\n",
    "newarr = arr.reshape(2,3,2)\n",
    "print(newarr)"
   ]
  },
  {
   "cell_type": "code",
   "execution_count": 36,
   "id": "97300e86-b169-462f-ae96-3a4859000a02",
   "metadata": {},
   "outputs": [
    {
     "name": "stdout",
     "output_type": "stream",
     "text": [
      "[[ 1  2  3  4  5  6]\n",
      " [ 7  8  9 10 12 45]]\n"
     ]
    }
   ],
   "source": [
    "arr = np.array([1,2,3,4,5,6,7,8,9,10,12,45])\n",
    "newarr = arr.reshape(2,-1) #-1 for unknown dimenstion,NumPy will calcylate it.\n",
    "print(newarr)"
   ]
  },
  {
   "cell_type": "code",
   "execution_count": null,
   "id": "0d9b53ba-5744-4fa9-a090-0ed49f5df7b1",
   "metadata": {},
   "outputs": [],
   "source": []
  },
  {
   "cell_type": "code",
   "execution_count": null,
   "id": "7575458e-106d-4d67-a427-75a53d1271b7",
   "metadata": {},
   "outputs": [],
   "source": []
  },
  {
   "cell_type": "code",
   "execution_count": null,
   "id": "dfe28412-5e18-4575-9e77-746f71012409",
   "metadata": {},
   "outputs": [],
   "source": []
  },
  {
   "cell_type": "code",
   "execution_count": null,
   "id": "65f1e3e1-19fb-4fa0-b663-ab4cede4ffa3",
   "metadata": {},
   "outputs": [],
   "source": []
  },
  {
   "cell_type": "code",
   "execution_count": null,
   "id": "8206edfc-5e7b-4317-bd41-8e7adfe937d2",
   "metadata": {},
   "outputs": [],
   "source": []
  },
  {
   "cell_type": "code",
   "execution_count": null,
   "id": "63d510c4-ae9c-4d27-824d-1038ce1d1a74",
   "metadata": {},
   "outputs": [],
   "source": []
  },
  {
   "cell_type": "code",
   "execution_count": null,
   "id": "0b3dca70-89c4-4ce9-a19f-f1907173c252",
   "metadata": {},
   "outputs": [],
   "source": []
  },
  {
   "cell_type": "code",
   "execution_count": null,
   "id": "37b22dc3-ce59-4635-b145-81f777e74afc",
   "metadata": {},
   "outputs": [],
   "source": []
  },
  {
   "cell_type": "code",
   "execution_count": null,
   "id": "85dfc17d-94fe-45dc-a2ac-027a9ea6df61",
   "metadata": {},
   "outputs": [],
   "source": []
  },
  {
   "cell_type": "code",
   "execution_count": null,
   "id": "6bd7e5a8-0045-43dc-be8e-e828e737f2a6",
   "metadata": {},
   "outputs": [],
   "source": []
  },
  {
   "cell_type": "code",
   "execution_count": null,
   "id": "5c4f2d27-b17c-44d4-8fdf-45b7a3e8d885",
   "metadata": {},
   "outputs": [],
   "source": []
  },
  {
   "cell_type": "code",
   "execution_count": null,
   "id": "4bd69f77-9b8c-4d53-909f-3b2957db95cd",
   "metadata": {},
   "outputs": [],
   "source": []
  },
  {
   "cell_type": "code",
   "execution_count": null,
   "id": "e8d65b70-99e5-49e5-ad4a-1b34fb0a6ec1",
   "metadata": {},
   "outputs": [],
   "source": []
  },
  {
   "cell_type": "code",
   "execution_count": null,
   "id": "0bd16745-f52b-4043-a8c4-f30cdb6fe52b",
   "metadata": {},
   "outputs": [],
   "source": []
  },
  {
   "cell_type": "code",
   "execution_count": null,
   "id": "bc41135a-4bc3-49c4-98b0-f74c5c985ce4",
   "metadata": {},
   "outputs": [],
   "source": []
  },
  {
   "cell_type": "code",
   "execution_count": null,
   "id": "2d30c346-0f7d-4d30-ae26-0948a1e9d8e5",
   "metadata": {},
   "outputs": [],
   "source": []
  },
  {
   "cell_type": "code",
   "execution_count": null,
   "id": "2c92e4e4-1f39-49a7-a442-28849b64bbc1",
   "metadata": {},
   "outputs": [],
   "source": []
  },
  {
   "cell_type": "code",
   "execution_count": null,
   "id": "dcd6067a-3dbc-4fe1-a3ba-2aa0c8510d91",
   "metadata": {},
   "outputs": [],
   "source": []
  },
  {
   "cell_type": "code",
   "execution_count": null,
   "id": "e6ace4ab-07e8-43ed-b223-af91ece12c62",
   "metadata": {},
   "outputs": [],
   "source": []
  },
  {
   "cell_type": "code",
   "execution_count": null,
   "id": "918489b3-daf6-4d98-ae1c-a18b7b024d47",
   "metadata": {},
   "outputs": [],
   "source": []
  },
  {
   "cell_type": "code",
   "execution_count": null,
   "id": "97bb5035-b3dc-45b4-8ac5-ebe8a0e6d6ea",
   "metadata": {},
   "outputs": [],
   "source": []
  },
  {
   "cell_type": "code",
   "execution_count": null,
   "id": "cd3733ae-a4cc-4616-a6c3-9bbb4552bf17",
   "metadata": {},
   "outputs": [],
   "source": []
  },
  {
   "cell_type": "code",
   "execution_count": null,
   "id": "69e643e2-a9d5-4fab-b557-1a773cf14caa",
   "metadata": {},
   "outputs": [],
   "source": []
  },
  {
   "cell_type": "code",
   "execution_count": null,
   "id": "03bac637-cb86-46df-aebb-6335228731cc",
   "metadata": {},
   "outputs": [],
   "source": []
  },
  {
   "cell_type": "code",
   "execution_count": null,
   "id": "237f0fbe-9b95-4799-9b1f-27734bb21327",
   "metadata": {},
   "outputs": [],
   "source": []
  },
  {
   "cell_type": "code",
   "execution_count": null,
   "id": "d62467d8-06a7-4e95-bdb0-74e7c5e48dd6",
   "metadata": {},
   "outputs": [],
   "source": []
  },
  {
   "cell_type": "code",
   "execution_count": null,
   "id": "8fa126b8-a268-45d0-b67d-d6b02c706130",
   "metadata": {},
   "outputs": [],
   "source": []
  },
  {
   "cell_type": "code",
   "execution_count": null,
   "id": "46ec9f8c-0318-4c1d-b07d-6be9b2b03cef",
   "metadata": {},
   "outputs": [],
   "source": []
  },
  {
   "cell_type": "code",
   "execution_count": null,
   "id": "1eeb1076-2a05-4a40-8a2a-242472acfd30",
   "metadata": {},
   "outputs": [],
   "source": []
  },
  {
   "cell_type": "code",
   "execution_count": null,
   "id": "bd47192e-81be-48cc-8445-b1609fd1ab1e",
   "metadata": {},
   "outputs": [],
   "source": []
  },
  {
   "cell_type": "code",
   "execution_count": null,
   "id": "5da8161b-e7c1-413d-a969-b55d133b3acf",
   "metadata": {},
   "outputs": [],
   "source": []
  },
  {
   "cell_type": "code",
   "execution_count": null,
   "id": "3cdd785f-a189-426e-8e65-a730e2948e01",
   "metadata": {},
   "outputs": [],
   "source": []
  },
  {
   "cell_type": "code",
   "execution_count": null,
   "id": "7e59809c-f599-4276-a611-a26ef6b45dff",
   "metadata": {},
   "outputs": [],
   "source": []
  },
  {
   "cell_type": "code",
   "execution_count": null,
   "id": "7d1b247d-80af-4097-8ebd-4f7b0947e19f",
   "metadata": {},
   "outputs": [],
   "source": []
  },
  {
   "cell_type": "code",
   "execution_count": null,
   "id": "9d616776-7747-4cb5-b3c8-415074e529b8",
   "metadata": {},
   "outputs": [],
   "source": []
  },
  {
   "cell_type": "code",
   "execution_count": null,
   "id": "89cbe4ee-142d-4444-bee5-7d3f668e3205",
   "metadata": {},
   "outputs": [],
   "source": []
  },
  {
   "cell_type": "code",
   "execution_count": null,
   "id": "2227ea3f-f655-4649-b52e-927b6385a943",
   "metadata": {},
   "outputs": [],
   "source": []
  },
  {
   "cell_type": "code",
   "execution_count": null,
   "id": "62e37856-de13-41d7-9a2f-a5306631ce94",
   "metadata": {},
   "outputs": [],
   "source": []
  },
  {
   "cell_type": "code",
   "execution_count": null,
   "id": "1c10e986-8873-4d4f-bd6d-c04f73288775",
   "metadata": {},
   "outputs": [],
   "source": []
  },
  {
   "cell_type": "code",
   "execution_count": null,
   "id": "46f42e4d-ccaf-4460-9ca6-2e2a5fa5c0e0",
   "metadata": {},
   "outputs": [],
   "source": []
  },
  {
   "cell_type": "code",
   "execution_count": null,
   "id": "2181ba70-52b2-4502-a00a-3080d011a100",
   "metadata": {},
   "outputs": [],
   "source": []
  },
  {
   "cell_type": "code",
   "execution_count": null,
   "id": "b78d2c95-0269-4ad6-aa66-b0c610865155",
   "metadata": {},
   "outputs": [],
   "source": []
  },
  {
   "cell_type": "code",
   "execution_count": null,
   "id": "379d719f-999e-4db0-8033-38e8c37f66ec",
   "metadata": {},
   "outputs": [],
   "source": []
  },
  {
   "cell_type": "code",
   "execution_count": null,
   "id": "5b124631-89ec-4a3b-8751-863f0b80af8f",
   "metadata": {},
   "outputs": [],
   "source": []
  },
  {
   "cell_type": "code",
   "execution_count": null,
   "id": "b8dd909f-a636-407a-9371-bf4b89db9ec7",
   "metadata": {},
   "outputs": [],
   "source": []
  },
  {
   "cell_type": "code",
   "execution_count": null,
   "id": "8774f3f1-7a5e-4b78-a90a-35f60e8bdfe9",
   "metadata": {},
   "outputs": [],
   "source": []
  },
  {
   "cell_type": "code",
   "execution_count": null,
   "id": "523d0178-5529-4f51-a97f-8208f8a605df",
   "metadata": {},
   "outputs": [],
   "source": []
  },
  {
   "cell_type": "code",
   "execution_count": null,
   "id": "1285aa7c-bc23-4fd3-9b88-e538b76c2089",
   "metadata": {},
   "outputs": [],
   "source": []
  },
  {
   "cell_type": "code",
   "execution_count": null,
   "id": "f6eb0249-6dd9-4130-9e20-0893742f10c5",
   "metadata": {},
   "outputs": [],
   "source": []
  },
  {
   "cell_type": "code",
   "execution_count": null,
   "id": "bb84f871-8127-4f38-b364-e175d3f5afd1",
   "metadata": {},
   "outputs": [],
   "source": []
  },
  {
   "cell_type": "code",
   "execution_count": null,
   "id": "04ff144d-aada-419e-b075-a29feeb4a31b",
   "metadata": {},
   "outputs": [],
   "source": []
  },
  {
   "cell_type": "code",
   "execution_count": null,
   "id": "393cb5b9-e866-4daa-8be7-21565d97adec",
   "metadata": {},
   "outputs": [],
   "source": []
  },
  {
   "cell_type": "code",
   "execution_count": null,
   "id": "90311e00-3db9-42b3-a6c8-29052dbe70d1",
   "metadata": {},
   "outputs": [],
   "source": []
  },
  {
   "cell_type": "code",
   "execution_count": null,
   "id": "ab6a58e2-8a05-4a6c-8c57-81667aec415f",
   "metadata": {},
   "outputs": [],
   "source": []
  },
  {
   "cell_type": "code",
   "execution_count": null,
   "id": "8b79aa45-aa2c-4d06-8976-00bdfd348101",
   "metadata": {},
   "outputs": [],
   "source": []
  }
 ],
 "metadata": {
  "kernelspec": {
   "display_name": "Python 3 (ipykernel)",
   "language": "python",
   "name": "python3"
  },
  "language_info": {
   "codemirror_mode": {
    "name": "ipython",
    "version": 3
   },
   "file_extension": ".py",
   "mimetype": "text/x-python",
   "name": "python",
   "nbconvert_exporter": "python",
   "pygments_lexer": "ipython3",
   "version": "3.10.13"
  }
 },
 "nbformat": 4,
 "nbformat_minor": 5
}
